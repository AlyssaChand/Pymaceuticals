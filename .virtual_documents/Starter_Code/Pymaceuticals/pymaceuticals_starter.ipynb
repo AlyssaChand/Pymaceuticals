


# Dependencies and Setup
import matplotlib.pyplot as plt
import pandas as pd
import scipy.stats as st

# Study data files
mouse_metadata_path = "data/Mouse_metadata.csv"
study_results_path = "data/Study_results.csv"

# Read the mouse data and the study results
mouse_metadata = pd.read_csv(mouse_metadata_path)
study_results = pd.read_csv(study_results_path)

# Combine the data into a single DataFrame
combined_data = pd.merge(study_results, mouse_metadata, how='left', on='Mouse ID')

# Display the data table for preview
combined_data.head()


# Dependencies and Setup
import matplotlib.pyplot as plt
import pandas as pd
import scipy.stats as st

# Study data files
mouse_metadata_path = "data/Mouse_metadata.csv"
study_results_path = "data/Study_results.csv"

# Read the mouse data and the study results
mouse_metadata = pd.read_csv(mouse_metadata_path)
study_results = pd.read_csv(study_results_path)

# Combine the data into a single DataFrame


# Display the data table for preview



mice = mouse_metadata['Mouse ID'].count()
mice


# Checking the number of mice.



#duplicate_mice = combined_data.duplicated(['Mouse ID', 'Timepoint'], keep=False)
duplicate_mice = combined_data.loc[combined_data.duplicated(subset=['Mouse ID', 'Timepoint']), 'Mouse ID'].unique()
duplicate_mice


# Our data should be uniquely identified by Mouse ID and Timepoint
# Get the duplicate mice by ID number that shows up for Mouse ID and Timepoint. 



all_mice = combined_data.loc[combined_data['Mouse ID'] == 'g989', :]
all_mice


# Optional: Get all the data for the duplicate mouse ID. 



duplicate_drop = combined_data.drop(all_mice.index)
duplicate_drop.head()


# Create a clean DataFrame by dropping the duplicate mouse by its ID.



new_mice_count = len(duplicate_drop['Mouse ID'].unique())
new_mice_count


# Checking the number of mice in the clean DataFrame.






mean_stats = duplicate_drop.groupby(['Drug Regimen'])['Tumor Volume (mm3)'].mean()
median_stats = duplicate_drop.groupby(['Drug Regimen'])['Tumor Volume (mm3)'].median()
var_stats = duplicate_drop.groupby(['Drug Regimen'])['Tumor Volume (mm3)'].var()
std_stats = duplicate_drop.groupby(['Drug Regimen'])['Tumor Volume (mm3)'].std()
sem_stats = duplicate_drop.groupby(['Drug Regimen'])['Tumor Volume (mm3)'].sem()

summary_stats = pd.DataFrame({'Mean Tumor Volume':mean_stats, 'Median Tumor Volume':median_stats, 'Tumor Volume Variance':var_stats, 'Tumor Volume Std. Dev.':std_stats, 'Tumor Volume Std. Err.':sem_stats})
summary_stats


# Generate a summary statistics table of mean, median, variance, standard deviation, and SEM of the tumor volume for each regimen

# Use groupby and summary statistical methods to calculate the following properties of each drug regimen: 
# mean, median, variance, standard deviation, and SEM of the tumor volume. 
# Assemble the resulting series into a single summary DataFrame.



summary_stats = duplicate_drop.groupby(['Drug Regimen'])[['Tumor Volume (mm3)']].agg(['mean', 'median', 'var', 'std', 'sem'])
summary_stats


# A more advanced method to generate a summary statistics table of mean, median, variance, standard deviation,
# and SEM of the tumor volume for each regimen (only one method is required in the solution)

# Using the aggregation method, produce the same summary statistics in a single line






drug_mice = duplicate_drop['Drug Regimen'].value_counts()
drug_mice.plot.bar(xlabel='Drug Regimen', ylabel='# of Observed Mouse Timepoints')


# Generate a bar plot showing the total number of rows (Mouse ID/Timepoints) for each drug regimen using Pandas.



drug_mice_py = duplicate_drop['Drug Regimen'].value_counts()
plt.bar(drug_mice_py.index, drug_mice_py.values)
plt.xticks(rotation=90)
plt.xlabel('Drug Regimen')
plt.ylabel('# of Observed Mouse Timepoints')
plt.show()


# Generate a bar plot showing the total number of rows (Mouse ID/Timepoints) for each drug regimen using pyplot.



# Mouse ID + Sex
mice_sex = duplicate_drop['Sex'].value_counts()
mice_sex.plot(kind='pie', ylabel='Sex', autopct='%1.1f%%')


# Generate a pie plot showing the distribution of female versus male mice using Pandas



mice_sex_py = duplicate_drop['Sex'].value_counts()
plt.pie(mice_sex_py, labels=mice_sex_py.index, autopct='%1.1f%%')
plt.ylabel('Sex')
plt.show()


# Generate a pie plot showing the distribution of female versus male mice using pyplot






duplicate_drop.head()


four_drugs = ['Capomulin', 'Ramicane', 'Infubinol', 'Ceftamin']
four_drugs_df = duplicate_drop[duplicate_drop['Drug Regimen'].isin(four_drugs)]

last_time_mouse = four_drugs_df.groupby('Mouse ID')['Timepoint'].max().reset_index()

final_vol = pd.merge(last_time_mouse, combined_data, on='Mouse ID'), #'Timepoint'], how='left')[['Mouse ID', 'Tumor Volume (mm3)']] 
final_vol


# Calculate the final tumor volume of each mouse across four of the treatment regimens:  
# Capomulin, Ramicane, Infubinol, and Ceftamin

# Start by getting the last (greatest) timepoint for each mouse


# Merge this group df with the original DataFrame to get the tumor volume at the last timepoint



four_drugs_list = ['Capomulin', 'Ramicane', 'Infubinol', 'Ceftamin']

tumor_vol = []

for drugs in four_drugs_list:

    mice_on_drug = final_vol.loc[final_vol['Drug Regimen'] == drugs, 'Tumor Volume (mm3)']

    quartiles = mice_on_drug.quantile[.25, .75]
    upperQ = quartiles[.75]
    lowerQ = quartiles[.25]
    interQ = upperQ - lowerQ

    # add subset
    tumor_vol.append(mice_on_drug)

    upper_bound = upperQ + (1.5*interQ)
    lower_bound = lowerQ - (1.5*interQ)
    outliers = mice_on_drug[(mice_on_drug.loc[(mice_on_drug < lower_bound) | (mice_on_drug > upper_bound)])]

    print(outliers)


# Put treatments into a list for for loop (and later for plot labels)


# Create empty list to fill with tumor vol data (for plotting)


# Calculate the IQR and quantitatively determine if there are any potential outliers. 

    
    # Locate the rows which contain mice on each drug and get the tumor volumes

    
    # add subset 

    
    # Determine outliers using upper and lower bounds



# Generate a box plot that shows the distrubution of the tumor volume for each treatment group.






# Generate a line plot of tumor volume vs. time point for a single mouse treated with Capomulin



# Generate a scatter plot of mouse weight vs. the average observed tumor volume for the entire Capomulin regimen






# Calculate the correlation coefficient and a linear regression model 
# for mouse weight and average observed tumor volume for the entire Capomulin regimen




